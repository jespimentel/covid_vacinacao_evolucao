{
  "nbformat": 4,
  "nbformat_minor": 0,
  "metadata": {
    "colab": {
      "name": "Covid_vacinacao.ipynb",
      "provenance": [],
      "collapsed_sections": [],
      "authorship_tag": "ABX9TyN6Vb3IU1Yclf+I4Fvi7i0G",
      "include_colab_link": true
    },
    "kernelspec": {
      "name": "python3",
      "display_name": "Python 3"
    }
  },
  "cells": [
    {
      "cell_type": "markdown",
      "metadata": {
        "id": "view-in-github",
        "colab_type": "text"
      },
      "source": [
        "<a href=\"https://colab.research.google.com/github/jespimentel/covid_vacinacao_evolucao/blob/main/Covid_vacinacao.ipynb\" target=\"_parent\"><img src=\"https://colab.research.google.com/assets/colab-badge.svg\" alt=\"Open In Colab\"/></a>"
      ]
    },
    {
      "cell_type": "markdown",
      "metadata": {
        "id": "nKigmnGVZZ3j"
      },
      "source": [
        "## **Covid-19 - Vacinação e evolução da doença**\n",
        "\n",
        "## **DataSUS e SEADE SP**\n",
        "\n",
        "@jespimentel\n",
        "\n",
        "\n"
      ]
    },
    {
      "cell_type": "markdown",
      "metadata": {
        "id": "MT6zpkbmfKqE"
      },
      "source": [
        "Instruções:\n",
        "\n",
        "1) Copie os links com os dados atualizados do DataSUS e do SEADE na célula dos paths;\n",
        "\n",
        "2) Rode as células na sequência;\n",
        "\n",
        "3) O programa gravará um arquivo 'csv' com a relação dos vacinados no município selecionado e uma planilha Excel ('xlsx') com os agrupamentos feitos pelo script."
      ]
    },
    {
      "cell_type": "markdown",
      "metadata": {
        "id": "Ij0uLncw_0-9"
      },
      "source": [
        "Fontes dos dados\n",
        "\n",
        "Vacinação: https://opendatasus.saude.gov.br/dataset/covid-19-vacinacao\n",
        "\n",
        "Ocupação hospitalar: https://opendatasus.saude.gov.br/dataset/registro-de-ocupacao-hospitalar\n",
        "\n",
        "Casos e óbitos: https://www.seade.gov.br/coronavirus/"
      ]
    },
    {
      "cell_type": "code",
      "metadata": {
        "id": "Yhp9KfZd_ruw"
      },
      "source": [
        "# Vacinação (DataSUS - por Estado)\n",
        "path = \"https://s3-sa-east-1.amazonaws.com/ckan.saude.gov.br/PNI/vacina/uf/2021-04-20/uf%3DSP/part-00000-54596d73-9424-4bb0-a2f2-927312f01533.c000.csv\"\n",
        "\n",
        "# Ocupação hospitalar (DataSUS)\n",
        "path1 = \"https://s3-sa-east-1.amazonaws.com/ckan.saude.gov.br/Leitos/2021-04-20/esus-vepi.LeitoOcupacao.csv\"\n",
        "\n",
        "# Leitos e internações (SEADE - SP)\n",
        "path2 = 'https://raw.githubusercontent.com/seade-R/dados-covid-sp/master/data/plano_sp_leitos_internacoes_serie_nova_variacao_semanal.csv'\n",
        "\n",
        "# Casos e óbitos (SEADE - SP)\n",
        "path3 = 'https://raw.githubusercontent.com/seade-R/dados-covid-sp/master/data/dados_covid_sp.csv'"
      ],
      "execution_count": 1,
      "outputs": []
    },
    {
      "cell_type": "code",
      "metadata": {
        "id": "xevhz3DBGcwf"
      },
      "source": [
        "import pandas as pd\n",
        "import matplotlib.pyplot as plt\n",
        "import datetime"
      ],
      "execution_count": 2,
      "outputs": []
    },
    {
      "cell_type": "code",
      "metadata": {
        "id": "fWXF8Jik8EwX"
      },
      "source": [
        "# Vacinação SP (DataSUS)\n",
        "vacinados_sp = pd.read_csv(path, sep=\";\", error_bad_lines=False, index_col='vacina_dataAplicacao', \n",
        "                           parse_dates=['vacina_dataAplicacao', 'paciente_dataNascimento','data_importacao_rnds'])\n",
        "vacinados_sp = vacinados_sp.sort_index()"
      ],
      "execution_count": 3,
      "outputs": []
    },
    {
      "cell_type": "code",
      "metadata": {
        "id": "wOK_jpQhbaWp",
        "colab": {
          "base_uri": "https://localhost:8080/"
        },
        "outputId": "2d1d3de3-5caa-47a2-b58c-4b60c9c056a0"
      },
      "source": [
        "# Ocupação Hospitalar (DataSUS)\n",
        "ocupacao = pd.read_csv(path1, sep=\",\", error_bad_lines=False, index_col='dataNotificacao', \n",
        "                       parse_dates=['dataNotificacao', '_created_at', '_updated_at'])"
      ],
      "execution_count": 4,
      "outputs": [
        {
          "output_type": "stream",
          "text": [
            "/usr/local/lib/python3.7/dist-packages/IPython/core/interactiveshell.py:2718: DtypeWarning: Columns (2) have mixed types.Specify dtype option on import or set low_memory=False.\n",
            "  interactivity=interactivity, compiler=compiler, result=result)\n"
          ],
          "name": "stderr"
        }
      ]
    },
    {
      "cell_type": "code",
      "metadata": {
        "id": "flh8IEYlVj_4"
      },
      "source": [
        "# Leitos e internações (SEADE - SP)\n",
        "leitos_internacoes = pd.read_csv(path2, sep = ';', error_bad_lines=False, \n",
        "                                 parse_dates=['datahora'], index_col='datahora')"
      ],
      "execution_count": 5,
      "outputs": []
    },
    {
      "cell_type": "code",
      "metadata": {
        "id": "AvzCFsw6Z5GL"
      },
      "source": [
        "# Casos e óbitos (SEADE - SP)\n",
        "casos_obitos = pd.read_csv(path3, sep = ';', error_bad_lines=False, \n",
        "                           parse_dates=['datahora'], index_col='datahora')"
      ],
      "execution_count": 6,
      "outputs": []
    },
    {
      "cell_type": "markdown",
      "metadata": {
        "id": "_reV09kWFhny"
      },
      "source": [
        "## Seleção"
      ]
    },
    {
      "cell_type": "code",
      "metadata": {
        "colab": {
          "base_uri": "https://localhost:8080/",
          "height": 37
        },
        "id": "P8OEvPKkZrRf",
        "outputId": "c7dd04b4-b195-4de7-98f8-f31cedffc3ba"
      },
      "source": [
        "# Critérios de seleção\n",
        "'''\n",
        "codigo_ibge = 355030\n",
        "municipio = 'São Paulo'\n",
        "drs = 'DRS 01 Grande São Paulo'\n",
        "'''"
      ],
      "execution_count": 63,
      "outputs": [
        {
          "output_type": "execute_result",
          "data": {
            "application/vnd.google.colaboratory.intrinsic+json": {
              "type": "string"
            },
            "text/plain": [
              "\"\\ncodigo_ibge = 355030\\nmunicipio = 'São Paulo'\\ndrs = 'DRS 01 Grande São Paulo'\\n\""
            ]
          },
          "metadata": {
            "tags": []
          },
          "execution_count": 63
        }
      ]
    },
    {
      "cell_type": "code",
      "metadata": {
        "id": "w7rFprYoDdhr"
      },
      "source": [
        "# Opcionalmente\n",
        "codigo_ibge = 353870\n",
        "municipio = 'Piracicaba'\n",
        "drs = 'DRS 10 Piracicaba'"
      ],
      "execution_count": 64,
      "outputs": []
    },
    {
      "cell_type": "code",
      "metadata": {
        "id": "zo5QOb0ROXd0",
        "colab": {
          "base_uri": "https://localhost:8080/",
          "height": 561
        },
        "outputId": "b01f307c-4d27-4b79-8c7f-09625551391c"
      },
      "source": [
        "# Vacinados no município (seleção pelo código do IBGE)\n",
        "criterio = vacinados_sp['estabelecimento_municipio_codigo'] == codigo_ibge\n",
        "vacinados_municipio = vacinados_sp[criterio]\n",
        "vacinados_municipio.index = pd.to_datetime(vacinados_municipio.index.strftime('%d/%m/%Y'), dayfirst=True)\n",
        "vacinados_municipio.sample(5)"
      ],
      "execution_count": 65,
      "outputs": [
        {
          "output_type": "execute_result",
          "data": {
            "text/html": [
              "<div>\n",
              "<style scoped>\n",
              "    .dataframe tbody tr th:only-of-type {\n",
              "        vertical-align: middle;\n",
              "    }\n",
              "\n",
              "    .dataframe tbody tr th {\n",
              "        vertical-align: top;\n",
              "    }\n",
              "\n",
              "    .dataframe thead th {\n",
              "        text-align: right;\n",
              "    }\n",
              "</style>\n",
              "<table border=\"1\" class=\"dataframe\">\n",
              "  <thead>\n",
              "    <tr style=\"text-align: right;\">\n",
              "      <th></th>\n",
              "      <th>document_id</th>\n",
              "      <th>paciente_id</th>\n",
              "      <th>paciente_idade</th>\n",
              "      <th>paciente_dataNascimento</th>\n",
              "      <th>paciente_enumSexoBiologico</th>\n",
              "      <th>paciente_racaCor_codigo</th>\n",
              "      <th>paciente_racaCor_valor</th>\n",
              "      <th>paciente_endereco_coIbgeMunicipio</th>\n",
              "      <th>paciente_endereco_coPais</th>\n",
              "      <th>paciente_endereco_nmMunicipio</th>\n",
              "      <th>paciente_endereco_nmPais</th>\n",
              "      <th>paciente_endereco_uf</th>\n",
              "      <th>paciente_endereco_cep</th>\n",
              "      <th>paciente_nacionalidade_enumNacionalidade</th>\n",
              "      <th>estabelecimento_valor</th>\n",
              "      <th>estabelecimento_razaoSocial</th>\n",
              "      <th>estalecimento_noFantasia</th>\n",
              "      <th>estabelecimento_municipio_codigo</th>\n",
              "      <th>estabelecimento_municipio_nome</th>\n",
              "      <th>estabelecimento_uf</th>\n",
              "      <th>vacina_grupoAtendimento_codigo</th>\n",
              "      <th>vacina_grupoAtendimento_nome</th>\n",
              "      <th>vacina_categoria_codigo</th>\n",
              "      <th>vacina_categoria_nome</th>\n",
              "      <th>vacina_lote</th>\n",
              "      <th>vacina_fabricante_nome</th>\n",
              "      <th>vacina_fabricante_referencia</th>\n",
              "      <th>vacina_descricao_dose</th>\n",
              "      <th>vacina_codigo</th>\n",
              "      <th>vacina_nome</th>\n",
              "      <th>sistema_origem</th>\n",
              "      <th>data_importacao_rnds</th>\n",
              "      <th>id_sistema_origem</th>\n",
              "    </tr>\n",
              "    <tr>\n",
              "      <th>vacina_dataAplicacao</th>\n",
              "      <th></th>\n",
              "      <th></th>\n",
              "      <th></th>\n",
              "      <th></th>\n",
              "      <th></th>\n",
              "      <th></th>\n",
              "      <th></th>\n",
              "      <th></th>\n",
              "      <th></th>\n",
              "      <th></th>\n",
              "      <th></th>\n",
              "      <th></th>\n",
              "      <th></th>\n",
              "      <th></th>\n",
              "      <th></th>\n",
              "      <th></th>\n",
              "      <th></th>\n",
              "      <th></th>\n",
              "      <th></th>\n",
              "      <th></th>\n",
              "      <th></th>\n",
              "      <th></th>\n",
              "      <th></th>\n",
              "      <th></th>\n",
              "      <th></th>\n",
              "      <th></th>\n",
              "      <th></th>\n",
              "      <th></th>\n",
              "      <th></th>\n",
              "      <th></th>\n",
              "      <th></th>\n",
              "      <th></th>\n",
              "      <th></th>\n",
              "    </tr>\n",
              "  </thead>\n",
              "  <tbody>\n",
              "    <tr>\n",
              "      <th>2021-04-17</th>\n",
              "      <td>79cf4b1d-a08c-4347-8bc8-70cc5183f725-i0b0</td>\n",
              "      <td>f7eb1a44e60505b9088b0e9a2142ec0423e8344abcc637...</td>\n",
              "      <td>72</td>\n",
              "      <td>1948-05-09</td>\n",
              "      <td>M</td>\n",
              "      <td>1</td>\n",
              "      <td>BRANCA</td>\n",
              "      <td>353870.0</td>\n",
              "      <td>10.0</td>\n",
              "      <td>PIRACICABA</td>\n",
              "      <td>BRASIL</td>\n",
              "      <td>SP</td>\n",
              "      <td>13403.0</td>\n",
              "      <td>B</td>\n",
              "      <td>7526768</td>\n",
              "      <td>PREFEITURA DO MUNICIPIO DE PIRACICABA</td>\n",
              "      <td>UNIDADE DE SAUDE DA FAMILIA JARDIM PRIMAVERA P...</td>\n",
              "      <td>353870</td>\n",
              "      <td>PIRACICABA</td>\n",
              "      <td>SP</td>\n",
              "      <td>203</td>\n",
              "      <td>Pessoas de 70 a 74 anos</td>\n",
              "      <td>2.0</td>\n",
              "      <td>Faixa Etária</td>\n",
              "      <td>210123</td>\n",
              "      <td>SINOVAC</td>\n",
              "      <td>NaN</td>\n",
              "      <td>2ª Dose</td>\n",
              "      <td>86</td>\n",
              "      <td>Covid-19-Coronavac-Sinovac/Butantan</td>\n",
              "      <td>VACIVIDA</td>\n",
              "      <td>2021-04-17 03:00:00</td>\n",
              "      <td>18262</td>\n",
              "    </tr>\n",
              "    <tr>\n",
              "      <th>2021-04-13</th>\n",
              "      <td>383f82fd-d345-4693-95ac-852151cbae49-i0b0</td>\n",
              "      <td>9ef970fb9574b63b408a33baeef4c3e850c3382eb6836c...</td>\n",
              "      <td>51</td>\n",
              "      <td>1970-02-22</td>\n",
              "      <td>F</td>\n",
              "      <td>1</td>\n",
              "      <td>BRANCA</td>\n",
              "      <td>353870.0</td>\n",
              "      <td>10.0</td>\n",
              "      <td>PIRACICABA</td>\n",
              "      <td>BRASIL</td>\n",
              "      <td>SP</td>\n",
              "      <td>13405.0</td>\n",
              "      <td>B</td>\n",
              "      <td>3056910</td>\n",
              "      <td>PREFEITURA DO MUNICIPIO DE PIRACICABA</td>\n",
              "      <td>UNIDADE DE SAUDE DA FAMILIA BOA ESPERANCA I PI...</td>\n",
              "      <td>353870</td>\n",
              "      <td>PIRACICABA</td>\n",
              "      <td>SP</td>\n",
              "      <td>801</td>\n",
              "      <td>Ensino Básico</td>\n",
              "      <td>8.0</td>\n",
              "      <td>Trabalhadores da Educação</td>\n",
              "      <td>210108</td>\n",
              "      <td>SINOVAC</td>\n",
              "      <td>NaN</td>\n",
              "      <td>1ª Dose</td>\n",
              "      <td>86</td>\n",
              "      <td>Covid-19-Coronavac-Sinovac/Butantan</td>\n",
              "      <td>VACIVIDA</td>\n",
              "      <td>2021-04-13 03:00:00</td>\n",
              "      <td>18262</td>\n",
              "    </tr>\n",
              "    <tr>\n",
              "      <th>2021-04-01</th>\n",
              "      <td>5b933855-9fa4-4487-99f2-117aaa607d5f-i0b0</td>\n",
              "      <td>3b123fe9f4dbbf3aa5147829075bed19441a5c9a4c8c4a...</td>\n",
              "      <td>70</td>\n",
              "      <td>1951-02-14</td>\n",
              "      <td>F</td>\n",
              "      <td>1</td>\n",
              "      <td>BRANCA</td>\n",
              "      <td>353870.0</td>\n",
              "      <td>10.0</td>\n",
              "      <td>PIRACICABA</td>\n",
              "      <td>BRASIL</td>\n",
              "      <td>SP</td>\n",
              "      <td>13402.0</td>\n",
              "      <td>B</td>\n",
              "      <td>2096609</td>\n",
              "      <td>PREFEITURA MUNICIPAL DE PIRACICABA</td>\n",
              "      <td>UNIDADE BASICA DE SAUDE NOVO HORIZONTE PIRACICABA</td>\n",
              "      <td>353870</td>\n",
              "      <td>PIRACICABA</td>\n",
              "      <td>SP</td>\n",
              "      <td>203</td>\n",
              "      <td>Pessoas de 70 a 74 anos</td>\n",
              "      <td>2.0</td>\n",
              "      <td>Faixa Etária</td>\n",
              "      <td>210079</td>\n",
              "      <td>SINOVAC</td>\n",
              "      <td>NaN</td>\n",
              "      <td>1ª Dose</td>\n",
              "      <td>86</td>\n",
              "      <td>Covid-19-Coronavac-Sinovac/Butantan</td>\n",
              "      <td>VACIVIDA</td>\n",
              "      <td>2021-04-01 03:00:00</td>\n",
              "      <td>18262</td>\n",
              "    </tr>\n",
              "    <tr>\n",
              "      <th>2021-03-10</th>\n",
              "      <td>7012f15a-752c-483a-851a-2d1dca4c5159-i0b0</td>\n",
              "      <td>a36ccded49bd1ae099b6033cfd88bafb55ba03d292fc2f...</td>\n",
              "      <td>78</td>\n",
              "      <td>1942-05-26</td>\n",
              "      <td>F</td>\n",
              "      <td>1</td>\n",
              "      <td>BRANCA</td>\n",
              "      <td>353870.0</td>\n",
              "      <td>10.0</td>\n",
              "      <td>PIRACICABA</td>\n",
              "      <td>BRASIL</td>\n",
              "      <td>SP</td>\n",
              "      <td>13420.0</td>\n",
              "      <td>B</td>\n",
              "      <td>3056821</td>\n",
              "      <td>PREFEITURA DO MUNICIPIO DE PIRACICABA</td>\n",
              "      <td>UNIDADE DE SAUDE DA FAMILIA CHAPADAO I PIRACICABA</td>\n",
              "      <td>353870</td>\n",
              "      <td>PIRACICABA</td>\n",
              "      <td>SP</td>\n",
              "      <td>204</td>\n",
              "      <td>Pessoas de 75 a 79 anos</td>\n",
              "      <td>2.0</td>\n",
              "      <td>Faixa Etária</td>\n",
              "      <td>210051</td>\n",
              "      <td>Sinovac</td>\n",
              "      <td>NaN</td>\n",
              "      <td>1ª Dose</td>\n",
              "      <td>86</td>\n",
              "      <td>Covid-19-Coronavac-Sinovac/Butantan</td>\n",
              "      <td>VACIVIDA</td>\n",
              "      <td>2021-03-10 03:00:00</td>\n",
              "      <td>18262</td>\n",
              "    </tr>\n",
              "    <tr>\n",
              "      <th>2021-02-03</th>\n",
              "      <td>747098ba-a588-48dc-ba04-438fd345cd7c-i0b0</td>\n",
              "      <td>fb2f711ad5704c965a9e0fbe77ac88a8dc6391d075c53e...</td>\n",
              "      <td>37</td>\n",
              "      <td>1983-04-28</td>\n",
              "      <td>F</td>\n",
              "      <td>4</td>\n",
              "      <td>AMARELA</td>\n",
              "      <td>354400.0</td>\n",
              "      <td>10.0</td>\n",
              "      <td>RIO DAS PEDRAS</td>\n",
              "      <td>BRASIL</td>\n",
              "      <td>SP</td>\n",
              "      <td>13398.0</td>\n",
              "      <td>B</td>\n",
              "      <td>2772310</td>\n",
              "      <td>IRMANDADE DA SANTA CASA DE MISERICORDIA DE PIR...</td>\n",
              "      <td>SANTA CASA DE PIRACICABA</td>\n",
              "      <td>353870</td>\n",
              "      <td>PIRACICABA</td>\n",
              "      <td>SP</td>\n",
              "      <td>926</td>\n",
              "      <td>Outros</td>\n",
              "      <td>9.0</td>\n",
              "      <td>Trabalhadores de Saúde</td>\n",
              "      <td>4120Z005</td>\n",
              "      <td>AstraZeneca/Oxford</td>\n",
              "      <td>NaN</td>\n",
              "      <td>1ª Dose</td>\n",
              "      <td>85</td>\n",
              "      <td>Vacina Covid-19 - Covishield</td>\n",
              "      <td>VACIVIDA</td>\n",
              "      <td>2021-02-03 15:02:00</td>\n",
              "      <td>18262</td>\n",
              "    </tr>\n",
              "  </tbody>\n",
              "</table>\n",
              "</div>"
            ],
            "text/plain": [
              "                                                    document_id  ... id_sistema_origem\n",
              "vacina_dataAplicacao                                             ...                  \n",
              "2021-04-17            79cf4b1d-a08c-4347-8bc8-70cc5183f725-i0b0  ...             18262\n",
              "2021-04-13            383f82fd-d345-4693-95ac-852151cbae49-i0b0  ...             18262\n",
              "2021-04-01            5b933855-9fa4-4487-99f2-117aaa607d5f-i0b0  ...             18262\n",
              "2021-03-10            7012f15a-752c-483a-851a-2d1dca4c5159-i0b0  ...             18262\n",
              "2021-02-03            747098ba-a588-48dc-ba04-438fd345cd7c-i0b0  ...             18262\n",
              "\n",
              "[5 rows x 33 columns]"
            ]
          },
          "metadata": {
            "tags": []
          },
          "execution_count": 65
        }
      ]
    },
    {
      "cell_type": "code",
      "metadata": {
        "id": "MZShZBEWpkjI"
      },
      "source": [
        "# Opcinalmente, gere arquivo 'csv' com a relação dos vacinados no município\n",
        "# vacinados_municipio.to_csv('{}.csv'.format(municipio))"
      ],
      "execution_count": 66,
      "outputs": []
    },
    {
      "cell_type": "code",
      "metadata": {
        "colab": {
          "base_uri": "https://localhost:8080/"
        },
        "id": "6i6bZ553W9us",
        "outputId": "09b46dde-e6a8-496f-fbb0-c84bf98e3cbb"
      },
      "source": [
        "doses = vacinados_municipio.groupby('vacina_descricao_dose')['document_id'].count()\n",
        "doses"
      ],
      "execution_count": 67,
      "outputs": [
        {
          "output_type": "execute_result",
          "data": {
            "text/plain": [
              "vacina_descricao_dose\n",
              "    1ª Dose    51837\n",
              "    2ª Dose    24854\n",
              "Name: document_id, dtype: int64"
            ]
          },
          "metadata": {
            "tags": []
          },
          "execution_count": 67
        }
      ]
    },
    {
      "cell_type": "code",
      "metadata": {
        "colab": {
          "base_uri": "https://localhost:8080/"
        },
        "id": "c75fyp2LcCFg",
        "outputId": "657fee8b-8287-47d1-db46-d641fb5d5d84"
      },
      "source": [
        "# Idade dos vacinados (1a. e 2a. doses)\n",
        "describe = vacinados_municipio['paciente_idade'].describe()\n",
        "describe"
      ],
      "execution_count": 68,
      "outputs": [
        {
          "output_type": "execute_result",
          "data": {
            "text/plain": [
              "count    76691.000000\n",
              "mean        65.351397\n",
              "std         18.816355\n",
              "min          4.000000\n",
              "25%         52.000000\n",
              "50%         72.000000\n",
              "75%         78.000000\n",
              "max        121.000000\n",
              "Name: paciente_idade, dtype: float64"
            ]
          },
          "metadata": {
            "tags": []
          },
          "execution_count": 68
        }
      ]
    },
    {
      "cell_type": "code",
      "metadata": {
        "colab": {
          "base_uri": "https://localhost:8080/"
        },
        "id": "s1YegmtIQco_",
        "outputId": "4f1c70ce-1adc-4416-f35a-c27ffdd2f0cd"
      },
      "source": [
        "# Quantidade de pessoas vacinadas por local, sexo e sistema de origem \n",
        "vacinados_por_local = vacinados_municipio.groupby(['estalecimento_noFantasia', 'paciente_enumSexoBiologico', 'sistema_origem'])['paciente_id'].count()\n",
        "vacinados_por_local"
      ],
      "execution_count": 69,
      "outputs": [
        {
          "output_type": "execute_result",
          "data": {
            "text/plain": [
              "estalecimento_noFantasia                           paciente_enumSexoBiologico  sistema_origem\n",
              "CENTRO DE DETENCAO PROVISORIA DE PIRACICABA        F                           VACIVIDA            13\n",
              "                                                   M                           VACIVIDA           122\n",
              "CENTRO DE RESSOCIALIZACAO DE PIRACICABA            F                           VACIVIDA            13\n",
              "                                                   M                           VACIVIDA             7\n",
              "HOSPITAL DOS FORNECEDORES DE CANA DE PIRACICABA    F                           VACIVIDA          1324\n",
              "                                                                                                 ... \n",
              "UNIDADE SAUDE DA FAMILIA SANTA ROSA II PIRACICABA  M                           VACIVIDA           353\n",
              "UNIDADE SAUDE DA FAMILIA SAO JOSE PIRACICABA       F                           VACIVIDA           128\n",
              "                                                   M                           VACIVIDA            68\n",
              "VIGILANCIA EPIDEMIOLOGICA DE PIRACICABA            F                           VACIVIDA          7631\n",
              "                                                   M                           VACIVIDA          3305\n",
              "Name: paciente_id, Length: 149, dtype: int64"
            ]
          },
          "metadata": {
            "tags": []
          },
          "execution_count": 69
        }
      ]
    },
    {
      "cell_type": "code",
      "metadata": {
        "colab": {
          "base_uri": "https://localhost:8080/",
          "height": 514
        },
        "id": "cRmY9EEDWMZT",
        "outputId": "50b2152f-eb86-434f-8322-30e018c3cd30"
      },
      "source": [
        "# Número de vacinados por semana\n",
        "vacinados_municipio_por_semana = vacinados_municipio[['paciente_id']].resample('W').count()\n",
        "vacinados_municipio_por_semana"
      ],
      "execution_count": 70,
      "outputs": [
        {
          "output_type": "execute_result",
          "data": {
            "text/html": [
              "<div>\n",
              "<style scoped>\n",
              "    .dataframe tbody tr th:only-of-type {\n",
              "        vertical-align: middle;\n",
              "    }\n",
              "\n",
              "    .dataframe tbody tr th {\n",
              "        vertical-align: top;\n",
              "    }\n",
              "\n",
              "    .dataframe thead th {\n",
              "        text-align: right;\n",
              "    }\n",
              "</style>\n",
              "<table border=\"1\" class=\"dataframe\">\n",
              "  <thead>\n",
              "    <tr style=\"text-align: right;\">\n",
              "      <th></th>\n",
              "      <th>paciente_id</th>\n",
              "    </tr>\n",
              "    <tr>\n",
              "      <th>vacina_dataAplicacao</th>\n",
              "      <th></th>\n",
              "    </tr>\n",
              "  </thead>\n",
              "  <tbody>\n",
              "    <tr>\n",
              "      <th>2021-01-24</th>\n",
              "      <td>536</td>\n",
              "    </tr>\n",
              "    <tr>\n",
              "      <th>2021-01-31</th>\n",
              "      <td>3478</td>\n",
              "    </tr>\n",
              "    <tr>\n",
              "      <th>2021-02-07</th>\n",
              "      <td>5465</td>\n",
              "    </tr>\n",
              "    <tr>\n",
              "      <th>2021-02-14</th>\n",
              "      <td>4199</td>\n",
              "    </tr>\n",
              "    <tr>\n",
              "      <th>2021-02-21</th>\n",
              "      <td>5059</td>\n",
              "    </tr>\n",
              "    <tr>\n",
              "      <th>2021-02-28</th>\n",
              "      <td>1753</td>\n",
              "    </tr>\n",
              "    <tr>\n",
              "      <th>2021-03-07</th>\n",
              "      <td>8918</td>\n",
              "    </tr>\n",
              "    <tr>\n",
              "      <th>2021-03-14</th>\n",
              "      <td>6543</td>\n",
              "    </tr>\n",
              "    <tr>\n",
              "      <th>2021-03-21</th>\n",
              "      <td>5284</td>\n",
              "    </tr>\n",
              "    <tr>\n",
              "      <th>2021-03-28</th>\n",
              "      <td>7175</td>\n",
              "    </tr>\n",
              "    <tr>\n",
              "      <th>2021-04-04</th>\n",
              "      <td>10496</td>\n",
              "    </tr>\n",
              "    <tr>\n",
              "      <th>2021-04-11</th>\n",
              "      <td>7469</td>\n",
              "    </tr>\n",
              "    <tr>\n",
              "      <th>2021-04-18</th>\n",
              "      <td>10255</td>\n",
              "    </tr>\n",
              "    <tr>\n",
              "      <th>2021-04-25</th>\n",
              "      <td>61</td>\n",
              "    </tr>\n",
              "  </tbody>\n",
              "</table>\n",
              "</div>"
            ],
            "text/plain": [
              "                      paciente_id\n",
              "vacina_dataAplicacao             \n",
              "2021-01-24                    536\n",
              "2021-01-31                   3478\n",
              "2021-02-07                   5465\n",
              "2021-02-14                   4199\n",
              "2021-02-21                   5059\n",
              "2021-02-28                   1753\n",
              "2021-03-07                   8918\n",
              "2021-03-14                   6543\n",
              "2021-03-21                   5284\n",
              "2021-03-28                   7175\n",
              "2021-04-04                  10496\n",
              "2021-04-11                   7469\n",
              "2021-04-18                  10255\n",
              "2021-04-25                     61"
            ]
          },
          "metadata": {
            "tags": []
          },
          "execution_count": 70
        }
      ]
    },
    {
      "cell_type": "code",
      "metadata": {
        "colab": {
          "base_uri": "https://localhost:8080/",
          "height": 600
        },
        "id": "2ppJBRE2vMI-",
        "outputId": "73612a6b-0d57-4346-9d43-516a1ecb0c55"
      },
      "source": [
        "graf_vacinados_semana = vacinados_municipio_por_semana.plot.bar(figsize=(12,6))\n",
        "\n",
        "# Gráfico: Vacinados por semana\n",
        "vacinados_municipio_por_semana = vacinados_municipio['document_id'].resample('w', closed='left').count()\n",
        "nome_do_grafico = '{} - Número de vacinados por semana'.format(municipio)\n",
        "plt.style.use ('classic')\n",
        "plt.grid()\n",
        "plt.title (nome_do_grafico)\n",
        "graf_vacinados_semana\n",
        "plt.savefig(nome_do_grafico+'.png', dpi = 300, bbox_inches='tight')\n",
        "plt.show()"
      ],
      "execution_count": 71,
      "outputs": [
        {
          "output_type": "display_data",
          "data": {
            "image/png": "[encoded data removed]",
            "text/plain": [
              "<Figure size 960x480 with 1 Axes>"
            ]
          },
          "metadata": {
            "tags": []
          }
        }
      ]
    },
    {
      "cell_type": "code",
      "metadata": {
        "colab": {
          "base_uri": "https://localhost:8080/",
          "height": 452
        },
        "id": "E5GCXWDlWcU0",
        "outputId": "d18c1b38-8d63-4c83-a7cd-39bf0b2c2740"
      },
      "source": [
        "hist_idade = vacinados_municipio['paciente_idade'].hist(figsize=(12,6))\n",
        "\n",
        "# Histograma: idade dos vacinados\n",
        "nome_do_grafico = '{} - Distrib. idade dos vacinados'.format(municipio)\n",
        "plt.style.use ('classic')\n",
        "plt.grid()\n",
        "plt.title (nome_do_grafico)\n",
        "hist_idade\n",
        "plt.savefig(nome_do_grafico+'.png', dpi = 300, bbox_inches='tight')\n",
        "plt.show()"
      ],
      "execution_count": 72,
      "outputs": [
        {
          "output_type": "display_data",
          "data": {
            "image/png": "[encoded data removed]",
            "text/plain": [
              "<Figure size 960x480 with 1 Axes>"
            ]
          },
          "metadata": {
            "tags": []
          }
        }
      ]
    },
    {
      "cell_type": "code",
      "metadata": {
        "id": "H1nyQNATKy0a"
      },
      "source": [
        "# Ocupação no município - DataSUS\n",
        "criterio = ocupacao ['municipioNotificacao'] == municipio\n",
        "ocupacao_municipio = ocupacao[criterio]\n",
        "ocupacao_municipio.index = pd.to_datetime(ocupacao_municipio.index.strftime('%d/%m/%Y'), dayfirst=True)\n",
        "ocupacao_municipio = ocupacao_municipio.sort_index()"
      ],
      "execution_count": 73,
      "outputs": []
    },
    {
      "cell_type": "code",
      "metadata": {
        "id": "8AIkaJhW-eba",
        "colab": {
          "base_uri": "https://localhost:8080/",
          "height": 359
        },
        "outputId": "c2117233-70bb-439c-da20-a224ad285a46"
      },
      "source": [
        "ocupacao_municipio = ocupacao_municipio[['cnes', 'ocupacaoConfirmadoCli', 'ocupacaoConfirmadoUti']]\n",
        "ocupacao_municipio.tail(9)"
      ],
      "execution_count": 74,
      "outputs": [
        {
          "output_type": "execute_result",
          "data": {
            "text/html": [
              "<div>\n",
              "<style scoped>\n",
              "    .dataframe tbody tr th:only-of-type {\n",
              "        vertical-align: middle;\n",
              "    }\n",
              "\n",
              "    .dataframe tbody tr th {\n",
              "        vertical-align: top;\n",
              "    }\n",
              "\n",
              "    .dataframe thead th {\n",
              "        text-align: right;\n",
              "    }\n",
              "</style>\n",
              "<table border=\"1\" class=\"dataframe\">\n",
              "  <thead>\n",
              "    <tr style=\"text-align: right;\">\n",
              "      <th></th>\n",
              "      <th>cnes</th>\n",
              "      <th>ocupacaoConfirmadoCli</th>\n",
              "      <th>ocupacaoConfirmadoUti</th>\n",
              "    </tr>\n",
              "    <tr>\n",
              "      <th>dataNotificacao</th>\n",
              "      <th></th>\n",
              "      <th></th>\n",
              "      <th></th>\n",
              "    </tr>\n",
              "  </thead>\n",
              "  <tbody>\n",
              "    <tr>\n",
              "      <th>2021-04-13</th>\n",
              "      <td>2087057</td>\n",
              "      <td>11.0</td>\n",
              "      <td>19.0</td>\n",
              "    </tr>\n",
              "    <tr>\n",
              "      <th>2021-04-14</th>\n",
              "      <td>2772310</td>\n",
              "      <td>21.0</td>\n",
              "      <td>25.0</td>\n",
              "    </tr>\n",
              "    <tr>\n",
              "      <th>2021-04-14</th>\n",
              "      <td>2087057</td>\n",
              "      <td>10.0</td>\n",
              "      <td>21.0</td>\n",
              "    </tr>\n",
              "    <tr>\n",
              "      <th>2021-04-14</th>\n",
              "      <td>9425802</td>\n",
              "      <td>18.0</td>\n",
              "      <td>39.0</td>\n",
              "    </tr>\n",
              "    <tr>\n",
              "      <th>2021-04-14</th>\n",
              "      <td>2792346</td>\n",
              "      <td>32.0</td>\n",
              "      <td>12.0</td>\n",
              "    </tr>\n",
              "    <tr>\n",
              "      <th>2021-04-15</th>\n",
              "      <td>2087057</td>\n",
              "      <td>10.0</td>\n",
              "      <td>22.0</td>\n",
              "    </tr>\n",
              "    <tr>\n",
              "      <th>2021-04-15</th>\n",
              "      <td>9425802</td>\n",
              "      <td>21.0</td>\n",
              "      <td>39.0</td>\n",
              "    </tr>\n",
              "    <tr>\n",
              "      <th>2021-04-15</th>\n",
              "      <td>2772310</td>\n",
              "      <td>19.0</td>\n",
              "      <td>24.0</td>\n",
              "    </tr>\n",
              "    <tr>\n",
              "      <th>2021-04-15</th>\n",
              "      <td>2792346</td>\n",
              "      <td>31.0</td>\n",
              "      <td>15.0</td>\n",
              "    </tr>\n",
              "  </tbody>\n",
              "</table>\n",
              "</div>"
            ],
            "text/plain": [
              "                    cnes  ocupacaoConfirmadoCli  ocupacaoConfirmadoUti\n",
              "dataNotificacao                                                       \n",
              "2021-04-13       2087057                   11.0                   19.0\n",
              "2021-04-14       2772310                   21.0                   25.0\n",
              "2021-04-14       2087057                   10.0                   21.0\n",
              "2021-04-14       9425802                   18.0                   39.0\n",
              "2021-04-14       2792346                   32.0                   12.0\n",
              "2021-04-15       2087057                   10.0                   22.0\n",
              "2021-04-15       9425802                   21.0                   39.0\n",
              "2021-04-15       2772310                   19.0                   24.0\n",
              "2021-04-15       2792346                   31.0                   15.0"
            ]
          },
          "metadata": {
            "tags": []
          },
          "execution_count": 74
        }
      ]
    },
    {
      "cell_type": "code",
      "metadata": {
        "colab": {
          "base_uri": "https://localhost:8080/",
          "height": 359
        },
        "id": "bumcdpeLM622",
        "outputId": "4a9d1e74-0aec-4092-fe30-3bce97d65101"
      },
      "source": [
        "ocupacao_por_estabelecimento = ocupacao_municipio.groupby([ocupacao_municipio.index, 'cnes'])[['ocupacaoConfirmadoCli','ocupacaoConfirmadoUti']].sum()\n",
        "ocupacao_por_estabelecimento.tail(9)"
      ],
      "execution_count": 75,
      "outputs": [
        {
          "output_type": "execute_result",
          "data": {
            "text/html": [
              "<div>\n",
              "<style scoped>\n",
              "    .dataframe tbody tr th:only-of-type {\n",
              "        vertical-align: middle;\n",
              "    }\n",
              "\n",
              "    .dataframe tbody tr th {\n",
              "        vertical-align: top;\n",
              "    }\n",
              "\n",
              "    .dataframe thead th {\n",
              "        text-align: right;\n",
              "    }\n",
              "</style>\n",
              "<table border=\"1\" class=\"dataframe\">\n",
              "  <thead>\n",
              "    <tr style=\"text-align: right;\">\n",
              "      <th></th>\n",
              "      <th></th>\n",
              "      <th>ocupacaoConfirmadoCli</th>\n",
              "      <th>ocupacaoConfirmadoUti</th>\n",
              "    </tr>\n",
              "    <tr>\n",
              "      <th>dataNotificacao</th>\n",
              "      <th>cnes</th>\n",
              "      <th></th>\n",
              "      <th></th>\n",
              "    </tr>\n",
              "  </thead>\n",
              "  <tbody>\n",
              "    <tr>\n",
              "      <th>2021-04-13</th>\n",
              "      <th>9425802.0</th>\n",
              "      <td>19.0</td>\n",
              "      <td>40.0</td>\n",
              "    </tr>\n",
              "    <tr>\n",
              "      <th rowspan=\"4\" valign=\"top\">2021-04-14</th>\n",
              "      <th>2087057.0</th>\n",
              "      <td>10.0</td>\n",
              "      <td>21.0</td>\n",
              "    </tr>\n",
              "    <tr>\n",
              "      <th>2772310.0</th>\n",
              "      <td>21.0</td>\n",
              "      <td>25.0</td>\n",
              "    </tr>\n",
              "    <tr>\n",
              "      <th>2792346</th>\n",
              "      <td>32.0</td>\n",
              "      <td>12.0</td>\n",
              "    </tr>\n",
              "    <tr>\n",
              "      <th>9425802.0</th>\n",
              "      <td>18.0</td>\n",
              "      <td>39.0</td>\n",
              "    </tr>\n",
              "    <tr>\n",
              "      <th rowspan=\"4\" valign=\"top\">2021-04-15</th>\n",
              "      <th>2087057.0</th>\n",
              "      <td>10.0</td>\n",
              "      <td>22.0</td>\n",
              "    </tr>\n",
              "    <tr>\n",
              "      <th>2772310.0</th>\n",
              "      <td>19.0</td>\n",
              "      <td>24.0</td>\n",
              "    </tr>\n",
              "    <tr>\n",
              "      <th>2792346</th>\n",
              "      <td>31.0</td>\n",
              "      <td>15.0</td>\n",
              "    </tr>\n",
              "    <tr>\n",
              "      <th>9425802.0</th>\n",
              "      <td>21.0</td>\n",
              "      <td>39.0</td>\n",
              "    </tr>\n",
              "  </tbody>\n",
              "</table>\n",
              "</div>"
            ],
            "text/plain": [
              "                           ocupacaoConfirmadoCli  ocupacaoConfirmadoUti\n",
              "dataNotificacao cnes                                                   \n",
              "2021-04-13      9425802.0                   19.0                   40.0\n",
              "2021-04-14      2087057.0                   10.0                   21.0\n",
              "                2772310.0                   21.0                   25.0\n",
              "                2792346                     32.0                   12.0\n",
              "                9425802.0                   18.0                   39.0\n",
              "2021-04-15      2087057.0                   10.0                   22.0\n",
              "                2772310.0                   19.0                   24.0\n",
              "                2792346                     31.0                   15.0\n",
              "                9425802.0                   21.0                   39.0"
            ]
          },
          "metadata": {
            "tags": []
          },
          "execution_count": 75
        }
      ]
    },
    {
      "cell_type": "code",
      "metadata": {
        "colab": {
          "base_uri": "https://localhost:8080/",
          "height": 413
        },
        "id": "2cGzkXZlEU9H",
        "outputId": "698ab486-5f62-4fca-acdd-688999a0a956"
      },
      "source": [
        "ocupacao_grouped = ocupacao_municipio.groupby([ocupacao_municipio.index])['ocupacaoConfirmadoCli',\n",
        "                                                                          'ocupacaoConfirmadoUti'].sum()\n",
        "ocupacao_grouped.tail(9)"
      ],
      "execution_count": 76,
      "outputs": [
        {
          "output_type": "stream",
          "text": [
            "/usr/local/lib/python3.7/dist-packages/ipykernel_launcher.py:1: FutureWarning: Indexing with multiple keys (implicitly converted to a tuple of keys) will be deprecated, use a list instead.\n",
            "  \"\"\"Entry point for launching an IPython kernel.\n"
          ],
          "name": "stderr"
        },
        {
          "output_type": "execute_result",
          "data": {
            "text/html": [
              "<div>\n",
              "<style scoped>\n",
              "    .dataframe tbody tr th:only-of-type {\n",
              "        vertical-align: middle;\n",
              "    }\n",
              "\n",
              "    .dataframe tbody tr th {\n",
              "        vertical-align: top;\n",
              "    }\n",
              "\n",
              "    .dataframe thead th {\n",
              "        text-align: right;\n",
              "    }\n",
              "</style>\n",
              "<table border=\"1\" class=\"dataframe\">\n",
              "  <thead>\n",
              "    <tr style=\"text-align: right;\">\n",
              "      <th></th>\n",
              "      <th>ocupacaoConfirmadoCli</th>\n",
              "      <th>ocupacaoConfirmadoUti</th>\n",
              "    </tr>\n",
              "    <tr>\n",
              "      <th>dataNotificacao</th>\n",
              "      <th></th>\n",
              "      <th></th>\n",
              "    </tr>\n",
              "  </thead>\n",
              "  <tbody>\n",
              "    <tr>\n",
              "      <th>2021-04-07</th>\n",
              "      <td>88.0</td>\n",
              "      <td>116.0</td>\n",
              "    </tr>\n",
              "    <tr>\n",
              "      <th>2021-04-08</th>\n",
              "      <td>96.0</td>\n",
              "      <td>113.0</td>\n",
              "    </tr>\n",
              "    <tr>\n",
              "      <th>2021-04-09</th>\n",
              "      <td>108.0</td>\n",
              "      <td>109.0</td>\n",
              "    </tr>\n",
              "    <tr>\n",
              "      <th>2021-04-10</th>\n",
              "      <td>97.0</td>\n",
              "      <td>94.0</td>\n",
              "    </tr>\n",
              "    <tr>\n",
              "      <th>2021-04-11</th>\n",
              "      <td>97.0</td>\n",
              "      <td>103.0</td>\n",
              "    </tr>\n",
              "    <tr>\n",
              "      <th>2021-04-12</th>\n",
              "      <td>99.0</td>\n",
              "      <td>98.0</td>\n",
              "    </tr>\n",
              "    <tr>\n",
              "      <th>2021-04-13</th>\n",
              "      <td>95.0</td>\n",
              "      <td>98.0</td>\n",
              "    </tr>\n",
              "    <tr>\n",
              "      <th>2021-04-14</th>\n",
              "      <td>81.0</td>\n",
              "      <td>97.0</td>\n",
              "    </tr>\n",
              "    <tr>\n",
              "      <th>2021-04-15</th>\n",
              "      <td>81.0</td>\n",
              "      <td>100.0</td>\n",
              "    </tr>\n",
              "  </tbody>\n",
              "</table>\n",
              "</div>"
            ],
            "text/plain": [
              "                 ocupacaoConfirmadoCli  ocupacaoConfirmadoUti\n",
              "dataNotificacao                                              \n",
              "2021-04-07                        88.0                  116.0\n",
              "2021-04-08                        96.0                  113.0\n",
              "2021-04-09                       108.0                  109.0\n",
              "2021-04-10                        97.0                   94.0\n",
              "2021-04-11                        97.0                  103.0\n",
              "2021-04-12                        99.0                   98.0\n",
              "2021-04-13                        95.0                   98.0\n",
              "2021-04-14                        81.0                   97.0\n",
              "2021-04-15                        81.0                  100.0"
            ]
          },
          "metadata": {
            "tags": []
          },
          "execution_count": 76
        }
      ]
    },
    {
      "cell_type": "code",
      "metadata": {
        "colab": {
          "base_uri": "https://localhost:8080/",
          "height": 359
        },
        "id": "fKmTFswoDeDm",
        "outputId": "d548b840-a258-4dd5-dc77-565a7556b4d4"
      },
      "source": [
        "ocupacao_media_semana = ocupacao_grouped[['ocupacaoConfirmadoCli', 'ocupacaoConfirmadoUti']].resample('W').mean()\n",
        "ocupacao_media_semana.tail(9)"
      ],
      "execution_count": 77,
      "outputs": [
        {
          "output_type": "execute_result",
          "data": {
            "text/html": [
              "<div>\n",
              "<style scoped>\n",
              "    .dataframe tbody tr th:only-of-type {\n",
              "        vertical-align: middle;\n",
              "    }\n",
              "\n",
              "    .dataframe tbody tr th {\n",
              "        vertical-align: top;\n",
              "    }\n",
              "\n",
              "    .dataframe thead th {\n",
              "        text-align: right;\n",
              "    }\n",
              "</style>\n",
              "<table border=\"1\" class=\"dataframe\">\n",
              "  <thead>\n",
              "    <tr style=\"text-align: right;\">\n",
              "      <th></th>\n",
              "      <th>ocupacaoConfirmadoCli</th>\n",
              "      <th>ocupacaoConfirmadoUti</th>\n",
              "    </tr>\n",
              "    <tr>\n",
              "      <th>dataNotificacao</th>\n",
              "      <th></th>\n",
              "      <th></th>\n",
              "    </tr>\n",
              "  </thead>\n",
              "  <tbody>\n",
              "    <tr>\n",
              "      <th>2021-02-21</th>\n",
              "      <td>34.000000</td>\n",
              "      <td>54.285714</td>\n",
              "    </tr>\n",
              "    <tr>\n",
              "      <th>2021-02-28</th>\n",
              "      <td>44.571429</td>\n",
              "      <td>54.142857</td>\n",
              "    </tr>\n",
              "    <tr>\n",
              "      <th>2021-03-07</th>\n",
              "      <td>51.857143</td>\n",
              "      <td>66.000000</td>\n",
              "    </tr>\n",
              "    <tr>\n",
              "      <th>2021-03-14</th>\n",
              "      <td>67.000000</td>\n",
              "      <td>75.142857</td>\n",
              "    </tr>\n",
              "    <tr>\n",
              "      <th>2021-03-21</th>\n",
              "      <td>82.166667</td>\n",
              "      <td>94.166667</td>\n",
              "    </tr>\n",
              "    <tr>\n",
              "      <th>2021-03-28</th>\n",
              "      <td>108.857143</td>\n",
              "      <td>108.714286</td>\n",
              "    </tr>\n",
              "    <tr>\n",
              "      <th>2021-04-04</th>\n",
              "      <td>110.428571</td>\n",
              "      <td>116.142857</td>\n",
              "    </tr>\n",
              "    <tr>\n",
              "      <th>2021-04-11</th>\n",
              "      <td>97.000000</td>\n",
              "      <td>109.142857</td>\n",
              "    </tr>\n",
              "    <tr>\n",
              "      <th>2021-04-18</th>\n",
              "      <td>89.000000</td>\n",
              "      <td>98.250000</td>\n",
              "    </tr>\n",
              "  </tbody>\n",
              "</table>\n",
              "</div>"
            ],
            "text/plain": [
              "                 ocupacaoConfirmadoCli  ocupacaoConfirmadoUti\n",
              "dataNotificacao                                              \n",
              "2021-02-21                   34.000000              54.285714\n",
              "2021-02-28                   44.571429              54.142857\n",
              "2021-03-07                   51.857143              66.000000\n",
              "2021-03-14                   67.000000              75.142857\n",
              "2021-03-21                   82.166667              94.166667\n",
              "2021-03-28                  108.857143             108.714286\n",
              "2021-04-04                  110.428571             116.142857\n",
              "2021-04-11                   97.000000             109.142857\n",
              "2021-04-18                   89.000000              98.250000"
            ]
          },
          "metadata": {
            "tags": []
          },
          "execution_count": 77
        }
      ]
    },
    {
      "cell_type": "code",
      "metadata": {
        "colab": {
          "base_uri": "https://localhost:8080/",
          "height": 486
        },
        "id": "4YNFe473GP01",
        "outputId": "1661f311-d669-46d0-aacf-8d913792ae66"
      },
      "source": [
        "graf_ocupacao_media_DataSUS = ocupacao_media_semana.plot(figsize=(12,6))\n",
        "\n",
        "# Gráfico: ocupação média semanal - DataSUS\n",
        "nome_do_grafico = '{} - Ocup. média semanal de leitos e UTIs - DataSUS'.format(municipio)\n",
        "plt.style.use ('classic')\n",
        "plt.grid()\n",
        "plt.title (nome_do_grafico)\n",
        "graf_ocupacao_media_DataSUS\n",
        "plt.savefig(nome_do_grafico+'.png', dpi = 300, bbox_inches='tight')\n",
        "plt.show()"
      ],
      "execution_count": 78,
      "outputs": [
        {
          "output_type": "display_data",
          "data": {
            "image/png": "[encoded data removed]",
            "text/plain": [
              "<Figure size 960x480 with 1 Axes>"
            ]
          },
          "metadata": {
            "tags": []
          }
        }
      ]
    },
    {
      "cell_type": "markdown",
      "metadata": {
        "id": "9sa_qPlBVE6W"
      },
      "source": [
        "## **Seade SP**"
      ]
    },
    {
      "cell_type": "code",
      "metadata": {
        "colab": {
          "base_uri": "https://localhost:8080/",
          "height": 340
        },
        "id": "6GSE-cDyathS",
        "outputId": "9e7d3ddd-876d-42ca-fafb-74298fdd402f"
      },
      "source": [
        "leitos_internacoes.sample(5)"
      ],
      "execution_count": 79,
      "outputs": [
        {
          "output_type": "execute_result",
          "data": {
            "text/html": [
              "<div>\n",
              "<style scoped>\n",
              "    .dataframe tbody tr th:only-of-type {\n",
              "        vertical-align: middle;\n",
              "    }\n",
              "\n",
              "    .dataframe tbody tr th {\n",
              "        vertical-align: top;\n",
              "    }\n",
              "\n",
              "    .dataframe thead th {\n",
              "        text-align: right;\n",
              "    }\n",
              "</style>\n",
              "<table border=\"1\" class=\"dataframe\">\n",
              "  <thead>\n",
              "    <tr style=\"text-align: right;\">\n",
              "      <th></th>\n",
              "      <th>nome_drs</th>\n",
              "      <th>pacientes_uti_mm7d</th>\n",
              "      <th>total_covid_uti_mm7d</th>\n",
              "      <th>ocupacao_leitos</th>\n",
              "      <th>pop</th>\n",
              "      <th>leitos_pc</th>\n",
              "      <th>internacoes_7d</th>\n",
              "      <th>internacoes_7d_l</th>\n",
              "      <th>internacoes_7v7</th>\n",
              "      <th>pacientes_uti_ultimo_dia</th>\n",
              "      <th>total_covid_uti_ultimo_dia</th>\n",
              "      <th>ocupacao_leitos_ultimo_dia</th>\n",
              "      <th>internacoes_ultimo_dia</th>\n",
              "      <th>pacientes_enf_mm7d</th>\n",
              "      <th>total_covid_enf_mm7d</th>\n",
              "      <th>pacientes_enf_ultimo_dia</th>\n",
              "      <th>total_covid_enf_ultimo_dia</th>\n",
              "    </tr>\n",
              "    <tr>\n",
              "      <th>datahora</th>\n",
              "      <th></th>\n",
              "      <th></th>\n",
              "      <th></th>\n",
              "      <th></th>\n",
              "      <th></th>\n",
              "      <th></th>\n",
              "      <th></th>\n",
              "      <th></th>\n",
              "      <th></th>\n",
              "      <th></th>\n",
              "      <th></th>\n",
              "      <th></th>\n",
              "      <th></th>\n",
              "      <th></th>\n",
              "      <th></th>\n",
              "      <th></th>\n",
              "      <th></th>\n",
              "    </tr>\n",
              "  </thead>\n",
              "  <tbody>\n",
              "    <tr>\n",
              "      <th>2021-03-01</th>\n",
              "      <td>DRS 06 Bauru</td>\n",
              "      <td>254,86</td>\n",
              "      <td>267,00</td>\n",
              "      <td>95,45</td>\n",
              "      <td>1741281</td>\n",
              "      <td>15,33</td>\n",
              "      <td>582</td>\n",
              "      <td>563</td>\n",
              "      <td>3,37</td>\n",
              "      <td>269</td>\n",
              "      <td>276</td>\n",
              "      <td>97,46</td>\n",
              "      <td>63</td>\n",
              "      <td>437,00</td>\n",
              "      <td>625,14</td>\n",
              "      <td>449</td>\n",
              "      <td>635</td>\n",
              "    </tr>\n",
              "    <tr>\n",
              "      <th>2021-04-20</th>\n",
              "      <td>DRS 08 Franca</td>\n",
              "      <td>131,29</td>\n",
              "      <td>149,71</td>\n",
              "      <td>87,70</td>\n",
              "      <td>696336</td>\n",
              "      <td>21,50</td>\n",
              "      <td>217</td>\n",
              "      <td>201</td>\n",
              "      <td>7,96</td>\n",
              "      <td>131</td>\n",
              "      <td>148</td>\n",
              "      <td>88,51</td>\n",
              "      <td>23</td>\n",
              "      <td>150,57</td>\n",
              "      <td>230,71</td>\n",
              "      <td>138</td>\n",
              "      <td>226</td>\n",
              "    </tr>\n",
              "    <tr>\n",
              "      <th>2021-01-19</th>\n",
              "      <td>DRS 07 Campinas</td>\n",
              "      <td>507,29</td>\n",
              "      <td>715,43</td>\n",
              "      <td>70,91</td>\n",
              "      <td>4562125</td>\n",
              "      <td>15,68</td>\n",
              "      <td>949</td>\n",
              "      <td>932</td>\n",
              "      <td>1,82</td>\n",
              "      <td>531</td>\n",
              "      <td>730</td>\n",
              "      <td>72,74</td>\n",
              "      <td>131</td>\n",
              "      <td>598,86</td>\n",
              "      <td>1176,43</td>\n",
              "      <td>565</td>\n",
              "      <td>1186</td>\n",
              "    </tr>\n",
              "    <tr>\n",
              "      <th>2021-02-08</th>\n",
              "      <td>Estado de São Paulo</td>\n",
              "      <td>5985,71</td>\n",
              "      <td>8953,71</td>\n",
              "      <td>66,85</td>\n",
              "      <td>44639899</td>\n",
              "      <td>20,06</td>\n",
              "      <td>10487</td>\n",
              "      <td>10724</td>\n",
              "      <td>-2,21</td>\n",
              "      <td>5982</td>\n",
              "      <td>9045</td>\n",
              "      <td>66,14</td>\n",
              "      <td>1209</td>\n",
              "      <td>6996,00</td>\n",
              "      <td>14577,00</td>\n",
              "      <td>6837</td>\n",
              "      <td>14547</td>\n",
              "    </tr>\n",
              "    <tr>\n",
              "      <th>2021-04-05</th>\n",
              "      <td>DRS 09 Marília</td>\n",
              "      <td>234,14</td>\n",
              "      <td>244,86</td>\n",
              "      <td>95,62</td>\n",
              "      <td>1109670</td>\n",
              "      <td>22,07</td>\n",
              "      <td>544</td>\n",
              "      <td>494</td>\n",
              "      <td>10,12</td>\n",
              "      <td>236</td>\n",
              "      <td>247</td>\n",
              "      <td>95,55</td>\n",
              "      <td>70</td>\n",
              "      <td>422,57</td>\n",
              "      <td>558,43</td>\n",
              "      <td>431</td>\n",
              "      <td>541</td>\n",
              "    </tr>\n",
              "  </tbody>\n",
              "</table>\n",
              "</div>"
            ],
            "text/plain": [
              "                       nome_drs  ... total_covid_enf_ultimo_dia\n",
              "datahora                         ...                           \n",
              "2021-03-01         DRS 06 Bauru  ...                        635\n",
              "2021-04-20        DRS 08 Franca  ...                        226\n",
              "2021-01-19      DRS 07 Campinas  ...                       1186\n",
              "2021-02-08  Estado de São Paulo  ...                      14547\n",
              "2021-04-05       DRS 09 Marília  ...                        541\n",
              "\n",
              "[5 rows x 17 columns]"
            ]
          },
          "metadata": {
            "tags": []
          },
          "execution_count": 79
        }
      ]
    },
    {
      "cell_type": "code",
      "metadata": {
        "id": "VpBkQ4NOWFHC"
      },
      "source": [
        "# Seleciona DRS\n",
        "criterio = leitos_internacoes['nome_drs'] == drs\n",
        "leitos_internacoes_drs = leitos_internacoes[criterio]"
      ],
      "execution_count": 80,
      "outputs": []
    },
    {
      "cell_type": "code",
      "metadata": {
        "colab": {
          "base_uri": "https://localhost:8080/",
          "height": 450
        },
        "id": "AdUcqC0hdJKz",
        "outputId": "9c99b902-5957-422d-e071-2af645ea9a97"
      },
      "source": [
        "internacoes_diarias = leitos_internacoes_drs[['pacientes_uti_ultimo_dia', 'internacoes_ultimo_dia']]\n",
        "internacoes_diarias"
      ],
      "execution_count": 81,
      "outputs": [
        {
          "output_type": "execute_result",
          "data": {
            "text/html": [
              "<div>\n",
              "<style scoped>\n",
              "    .dataframe tbody tr th:only-of-type {\n",
              "        vertical-align: middle;\n",
              "    }\n",
              "\n",
              "    .dataframe tbody tr th {\n",
              "        vertical-align: top;\n",
              "    }\n",
              "\n",
              "    .dataframe thead th {\n",
              "        text-align: right;\n",
              "    }\n",
              "</style>\n",
              "<table border=\"1\" class=\"dataframe\">\n",
              "  <thead>\n",
              "    <tr style=\"text-align: right;\">\n",
              "      <th></th>\n",
              "      <th>pacientes_uti_ultimo_dia</th>\n",
              "      <th>internacoes_ultimo_dia</th>\n",
              "    </tr>\n",
              "    <tr>\n",
              "      <th>datahora</th>\n",
              "      <th></th>\n",
              "      <th></th>\n",
              "    </tr>\n",
              "  </thead>\n",
              "  <tbody>\n",
              "    <tr>\n",
              "      <th>2020-10-08</th>\n",
              "      <td>79</td>\n",
              "      <td>24</td>\n",
              "    </tr>\n",
              "    <tr>\n",
              "      <th>2020-10-09</th>\n",
              "      <td>83</td>\n",
              "      <td>28</td>\n",
              "    </tr>\n",
              "    <tr>\n",
              "      <th>2020-10-10</th>\n",
              "      <td>72</td>\n",
              "      <td>27</td>\n",
              "    </tr>\n",
              "    <tr>\n",
              "      <th>2020-10-11</th>\n",
              "      <td>67</td>\n",
              "      <td>15</td>\n",
              "    </tr>\n",
              "    <tr>\n",
              "      <th>2020-10-12</th>\n",
              "      <td>71</td>\n",
              "      <td>11</td>\n",
              "    </tr>\n",
              "    <tr>\n",
              "      <th>...</th>\n",
              "      <td>...</td>\n",
              "      <td>...</td>\n",
              "    </tr>\n",
              "    <tr>\n",
              "      <th>2021-04-17</th>\n",
              "      <td>366</td>\n",
              "      <td>101</td>\n",
              "    </tr>\n",
              "    <tr>\n",
              "      <th>2021-04-18</th>\n",
              "      <td>344</td>\n",
              "      <td>76</td>\n",
              "    </tr>\n",
              "    <tr>\n",
              "      <th>2021-04-19</th>\n",
              "      <td>340</td>\n",
              "      <td>86</td>\n",
              "    </tr>\n",
              "    <tr>\n",
              "      <th>2021-04-20</th>\n",
              "      <td>339</td>\n",
              "      <td>81</td>\n",
              "    </tr>\n",
              "    <tr>\n",
              "      <th>2021-04-21</th>\n",
              "      <td>332</td>\n",
              "      <td>85</td>\n",
              "    </tr>\n",
              "  </tbody>\n",
              "</table>\n",
              "<p>196 rows × 2 columns</p>\n",
              "</div>"
            ],
            "text/plain": [
              "            pacientes_uti_ultimo_dia  internacoes_ultimo_dia\n",
              "datahora                                                    \n",
              "2020-10-08                        79                      24\n",
              "2020-10-09                        83                      28\n",
              "2020-10-10                        72                      27\n",
              "2020-10-11                        67                      15\n",
              "2020-10-12                        71                      11\n",
              "...                              ...                     ...\n",
              "2021-04-17                       366                     101\n",
              "2021-04-18                       344                      76\n",
              "2021-04-19                       340                      86\n",
              "2021-04-20                       339                      81\n",
              "2021-04-21                       332                      85\n",
              "\n",
              "[196 rows x 2 columns]"
            ]
          },
          "metadata": {
            "tags": []
          },
          "execution_count": 81
        }
      ]
    },
    {
      "cell_type": "code",
      "metadata": {
        "colab": {
          "base_uri": "https://localhost:8080/",
          "height": 486
        },
        "id": "V4dKl6pT1cTp",
        "outputId": "2e0c3d43-3c08-44a1-b0e5-2e922baa88e8"
      },
      "source": [
        "graf_internacoes_drs = internacoes_diarias.plot(figsize=(12,6))\n",
        "\n",
        "# Gráfico: Internações diárias - DRS (SEADE)\n",
        "nome_do_grafico = '{} - Internações diárias (SEADE)'.format(drs)\n",
        "plt.style.use ('classic')\n",
        "plt.grid()\n",
        "plt.title (nome_do_grafico)\n",
        "graf_internacoes_drs\n",
        "plt.savefig(nome_do_grafico+'.png', dpi = 300, bbox_inches='tight')\n",
        "plt.show()"
      ],
      "execution_count": 82,
      "outputs": [
        {
          "output_type": "display_data",
          "data": {
            "image/png": "[encoded data removed]",
            "text/plain": [
              "<Figure size 960x480 with 1 Axes>"
            ]
          },
          "metadata": {
            "tags": []
          }
        }
      ]
    },
    {
      "cell_type": "code",
      "metadata": {
        "colab": {
          "base_uri": "https://localhost:8080/",
          "height": 374
        },
        "id": "QCB8BSumdgNS",
        "outputId": "7706f702-a45b-4eba-af62-15300b081ec1"
      },
      "source": [
        "casos_obitos.sample(5)"
      ],
      "execution_count": 83,
      "outputs": [
        {
          "output_type": "execute_result",
          "data": {
            "text/html": [
              "<div>\n",
              "<style scoped>\n",
              "    .dataframe tbody tr th:only-of-type {\n",
              "        vertical-align: middle;\n",
              "    }\n",
              "\n",
              "    .dataframe tbody tr th {\n",
              "        vertical-align: top;\n",
              "    }\n",
              "\n",
              "    .dataframe thead th {\n",
              "        text-align: right;\n",
              "    }\n",
              "</style>\n",
              "<table border=\"1\" class=\"dataframe\">\n",
              "  <thead>\n",
              "    <tr style=\"text-align: right;\">\n",
              "      <th></th>\n",
              "      <th>nome_munic</th>\n",
              "      <th>codigo_ibge</th>\n",
              "      <th>dia</th>\n",
              "      <th>mes</th>\n",
              "      <th>casos</th>\n",
              "      <th>casos_novos</th>\n",
              "      <th>casos_pc</th>\n",
              "      <th>casos_mm7d</th>\n",
              "      <th>obitos</th>\n",
              "      <th>obitos_novos</th>\n",
              "      <th>obitos_pc</th>\n",
              "      <th>obitos_mm7d</th>\n",
              "      <th>letalidade</th>\n",
              "      <th>nome_ra</th>\n",
              "      <th>cod_ra</th>\n",
              "      <th>nome_drs</th>\n",
              "      <th>cod_drs</th>\n",
              "      <th>pop</th>\n",
              "      <th>pop_60</th>\n",
              "      <th>area</th>\n",
              "      <th>map_leg</th>\n",
              "      <th>map_leg_s</th>\n",
              "      <th>latitude</th>\n",
              "      <th>longitude</th>\n",
              "      <th>semana_epidem</th>\n",
              "    </tr>\n",
              "    <tr>\n",
              "      <th>datahora</th>\n",
              "      <th></th>\n",
              "      <th></th>\n",
              "      <th></th>\n",
              "      <th></th>\n",
              "      <th></th>\n",
              "      <th></th>\n",
              "      <th></th>\n",
              "      <th></th>\n",
              "      <th></th>\n",
              "      <th></th>\n",
              "      <th></th>\n",
              "      <th></th>\n",
              "      <th></th>\n",
              "      <th></th>\n",
              "      <th></th>\n",
              "      <th></th>\n",
              "      <th></th>\n",
              "      <th></th>\n",
              "      <th></th>\n",
              "      <th></th>\n",
              "      <th></th>\n",
              "      <th></th>\n",
              "      <th></th>\n",
              "      <th></th>\n",
              "      <th></th>\n",
              "    </tr>\n",
              "  </thead>\n",
              "  <tbody>\n",
              "    <tr>\n",
              "      <th>2020-07-23</th>\n",
              "      <td>Ribeirão Bonito</td>\n",
              "      <td>3542909</td>\n",
              "      <td>23</td>\n",
              "      <td>7</td>\n",
              "      <td>34</td>\n",
              "      <td>2</td>\n",
              "      <td>2,623659e+02</td>\n",
              "      <td>1,1428571</td>\n",
              "      <td>0</td>\n",
              "      <td>0</td>\n",
              "      <td>0,000000e+00</td>\n",
              "      <td>0,0000000</td>\n",
              "      <td>0,0000000000</td>\n",
              "      <td>RA Central</td>\n",
              "      <td>5</td>\n",
              "      <td>Araraquara</td>\n",
              "      <td>8</td>\n",
              "      <td>12959</td>\n",
              "      <td>1890</td>\n",
              "      <td>47155</td>\n",
              "      <td>&lt;50</td>\n",
              "      <td>7.0</td>\n",
              "      <td>-22,0685</td>\n",
              "      <td>-48,1820</td>\n",
              "      <td>30</td>\n",
              "    </tr>\n",
              "    <tr>\n",
              "      <th>2021-02-23</th>\n",
              "      <td>Amparo</td>\n",
              "      <td>3501905</td>\n",
              "      <td>23</td>\n",
              "      <td>2</td>\n",
              "      <td>2743</td>\n",
              "      <td>10</td>\n",
              "      <td>3,938885e+03</td>\n",
              "      <td>5,8571429</td>\n",
              "      <td>53</td>\n",
              "      <td>0</td>\n",
              "      <td>7,610678e+01</td>\n",
              "      <td>0,5714286</td>\n",
              "      <td>0,0193219103</td>\n",
              "      <td>RA de Campinas</td>\n",
              "      <td>4</td>\n",
              "      <td>Campinas</td>\n",
              "      <td>3</td>\n",
              "      <td>69639</td>\n",
              "      <td>12727</td>\n",
              "      <td>44532</td>\n",
              "      <td>&lt;5000</td>\n",
              "      <td>2.0</td>\n",
              "      <td>-22,7088</td>\n",
              "      <td>-46,7720</td>\n",
              "      <td>8</td>\n",
              "    </tr>\n",
              "    <tr>\n",
              "      <th>2020-05-20</th>\n",
              "      <td>Santa Cruz do Rio Pardo</td>\n",
              "      <td>3546405</td>\n",
              "      <td>20</td>\n",
              "      <td>5</td>\n",
              "      <td>51</td>\n",
              "      <td>1</td>\n",
              "      <td>1,106051e+02</td>\n",
              "      <td>2,0000000</td>\n",
              "      <td>1</td>\n",
              "      <td>1</td>\n",
              "      <td>2,168727e+00</td>\n",
              "      <td>0,1428571</td>\n",
              "      <td>0,0196078431</td>\n",
              "      <td>RA de Marília</td>\n",
              "      <td>8</td>\n",
              "      <td>Marília</td>\n",
              "      <td>5</td>\n",
              "      <td>46110</td>\n",
              "      <td>8329</td>\n",
              "      <td>111475</td>\n",
              "      <td>&lt;150</td>\n",
              "      <td>6.0</td>\n",
              "      <td>-22,8988</td>\n",
              "      <td>-49,6354</td>\n",
              "      <td>21</td>\n",
              "    </tr>\n",
              "    <tr>\n",
              "      <th>2021-01-20</th>\n",
              "      <td>Estrela d'Oeste</td>\n",
              "      <td>3515202</td>\n",
              "      <td>20</td>\n",
              "      <td>1</td>\n",
              "      <td>650</td>\n",
              "      <td>2</td>\n",
              "      <td>8,030640e+03</td>\n",
              "      <td>2,1428571</td>\n",
              "      <td>14</td>\n",
              "      <td>0</td>\n",
              "      <td>1,729676e+02</td>\n",
              "      <td>0,0000000</td>\n",
              "      <td>0,0215384615</td>\n",
              "      <td>RA de São José do Rio Preto</td>\n",
              "      <td>14</td>\n",
              "      <td>São José do Rio Preto</td>\n",
              "      <td>15</td>\n",
              "      <td>8094</td>\n",
              "      <td>1685</td>\n",
              "      <td>29628</td>\n",
              "      <td>&lt;1200</td>\n",
              "      <td>3.0</td>\n",
              "      <td>-20,2875</td>\n",
              "      <td>-50,4049</td>\n",
              "      <td>3</td>\n",
              "    </tr>\n",
              "    <tr>\n",
              "      <th>2020-11-16</th>\n",
              "      <td>Socorro</td>\n",
              "      <td>3552106</td>\n",
              "      <td>16</td>\n",
              "      <td>11</td>\n",
              "      <td>645</td>\n",
              "      <td>0</td>\n",
              "      <td>1,663100e+03</td>\n",
              "      <td>9,0000000</td>\n",
              "      <td>9</td>\n",
              "      <td>0</td>\n",
              "      <td>2,320604e+01</td>\n",
              "      <td>0,0000000</td>\n",
              "      <td>0,0139534884</td>\n",
              "      <td>RA de Campinas</td>\n",
              "      <td>4</td>\n",
              "      <td>Campinas</td>\n",
              "      <td>3</td>\n",
              "      <td>38783</td>\n",
              "      <td>7970</td>\n",
              "      <td>44903</td>\n",
              "      <td>&lt;1200</td>\n",
              "      <td>3.0</td>\n",
              "      <td>-22,5903</td>\n",
              "      <td>-46,5251</td>\n",
              "      <td>47</td>\n",
              "    </tr>\n",
              "  </tbody>\n",
              "</table>\n",
              "</div>"
            ],
            "text/plain": [
              "                         nome_munic  codigo_ibge  ...  longitude  semana_epidem\n",
              "datahora                                          ...                          \n",
              "2020-07-23          Ribeirão Bonito      3542909  ...   -48,1820             30\n",
              "2021-02-23                   Amparo      3501905  ...   -46,7720              8\n",
              "2020-05-20  Santa Cruz do Rio Pardo      3546405  ...   -49,6354             21\n",
              "2021-01-20          Estrela d'Oeste      3515202  ...   -50,4049              3\n",
              "2020-11-16                  Socorro      3552106  ...   -46,5251             47\n",
              "\n",
              "[5 rows x 25 columns]"
            ]
          },
          "metadata": {
            "tags": []
          },
          "execution_count": 83
        }
      ]
    },
    {
      "cell_type": "code",
      "metadata": {
        "colab": {
          "base_uri": "https://localhost:8080/",
          "height": 148
        },
        "id": "hojjrE11amkc",
        "outputId": "c4f3bd45-f8d7-4dff-a723-b21ee17ee979"
      },
      "source": [
        "# Seleciona município\n",
        "criterio = casos_obitos['nome_munic'] == municipio\n",
        "casos_locais = casos_obitos[criterio]\n",
        "casos_locais.tail(1)"
      ],
      "execution_count": 84,
      "outputs": [
        {
          "output_type": "execute_result",
          "data": {
            "text/html": [
              "<div>\n",
              "<style scoped>\n",
              "    .dataframe tbody tr th:only-of-type {\n",
              "        vertical-align: middle;\n",
              "    }\n",
              "\n",
              "    .dataframe tbody tr th {\n",
              "        vertical-align: top;\n",
              "    }\n",
              "\n",
              "    .dataframe thead th {\n",
              "        text-align: right;\n",
              "    }\n",
              "</style>\n",
              "<table border=\"1\" class=\"dataframe\">\n",
              "  <thead>\n",
              "    <tr style=\"text-align: right;\">\n",
              "      <th></th>\n",
              "      <th>nome_munic</th>\n",
              "      <th>codigo_ibge</th>\n",
              "      <th>dia</th>\n",
              "      <th>mes</th>\n",
              "      <th>casos</th>\n",
              "      <th>casos_novos</th>\n",
              "      <th>casos_pc</th>\n",
              "      <th>casos_mm7d</th>\n",
              "      <th>obitos</th>\n",
              "      <th>obitos_novos</th>\n",
              "      <th>obitos_pc</th>\n",
              "      <th>obitos_mm7d</th>\n",
              "      <th>letalidade</th>\n",
              "      <th>nome_ra</th>\n",
              "      <th>cod_ra</th>\n",
              "      <th>nome_drs</th>\n",
              "      <th>cod_drs</th>\n",
              "      <th>pop</th>\n",
              "      <th>pop_60</th>\n",
              "      <th>area</th>\n",
              "      <th>map_leg</th>\n",
              "      <th>map_leg_s</th>\n",
              "      <th>latitude</th>\n",
              "      <th>longitude</th>\n",
              "      <th>semana_epidem</th>\n",
              "    </tr>\n",
              "    <tr>\n",
              "      <th>datahora</th>\n",
              "      <th></th>\n",
              "      <th></th>\n",
              "      <th></th>\n",
              "      <th></th>\n",
              "      <th></th>\n",
              "      <th></th>\n",
              "      <th></th>\n",
              "      <th></th>\n",
              "      <th></th>\n",
              "      <th></th>\n",
              "      <th></th>\n",
              "      <th></th>\n",
              "      <th></th>\n",
              "      <th></th>\n",
              "      <th></th>\n",
              "      <th></th>\n",
              "      <th></th>\n",
              "      <th></th>\n",
              "      <th></th>\n",
              "      <th></th>\n",
              "      <th></th>\n",
              "      <th></th>\n",
              "      <th></th>\n",
              "      <th></th>\n",
              "      <th></th>\n",
              "    </tr>\n",
              "  </thead>\n",
              "  <tbody>\n",
              "    <tr>\n",
              "      <th>2021-04-21</th>\n",
              "      <td>Piracicaba</td>\n",
              "      <td>3538709</td>\n",
              "      <td>21</td>\n",
              "      <td>4</td>\n",
              "      <td>41115</td>\n",
              "      <td>169</td>\n",
              "      <td>1,054574e+04</td>\n",
              "      <td>161,7142857</td>\n",
              "      <td>791</td>\n",
              "      <td>7</td>\n",
              "      <td>2,028866e+02</td>\n",
              "      <td>5,8571429</td>\n",
              "      <td>0,0192387207</td>\n",
              "      <td>RA de Campinas</td>\n",
              "      <td>4</td>\n",
              "      <td>Piracicaba</td>\n",
              "      <td>11</td>\n",
              "      <td>389873</td>\n",
              "      <td>64835</td>\n",
              "      <td>137807</td>\n",
              "      <td>&gt;5000</td>\n",
              "      <td>1.0</td>\n",
              "      <td>-22,7338</td>\n",
              "      <td>-47,6476</td>\n",
              "      <td>16</td>\n",
              "    </tr>\n",
              "  </tbody>\n",
              "</table>\n",
              "</div>"
            ],
            "text/plain": [
              "            nome_munic  codigo_ibge  dia  ...  latitude  longitude  semana_epidem\n",
              "datahora                                  ...                                    \n",
              "2021-04-21  Piracicaba      3538709   21  ...  -22,7338   -47,6476             16\n",
              "\n",
              "[1 rows x 25 columns]"
            ]
          },
          "metadata": {
            "tags": []
          },
          "execution_count": 84
        }
      ]
    },
    {
      "cell_type": "code",
      "metadata": {
        "colab": {
          "base_uri": "https://localhost:8080/",
          "height": 450
        },
        "id": "5o_OL_U7bX--",
        "outputId": "d373b74a-1f8c-4b7a-a6bc-96998c616625"
      },
      "source": [
        "casos_locais_selecionados = casos_locais[['nome_munic', 'casos', 'obitos', 'casos_novos', 'obitos_novos']]\n",
        "casos_locais_selecionados"
      ],
      "execution_count": 85,
      "outputs": [
        {
          "output_type": "execute_result",
          "data": {
            "text/html": [
              "<div>\n",
              "<style scoped>\n",
              "    .dataframe tbody tr th:only-of-type {\n",
              "        vertical-align: middle;\n",
              "    }\n",
              "\n",
              "    .dataframe tbody tr th {\n",
              "        vertical-align: top;\n",
              "    }\n",
              "\n",
              "    .dataframe thead th {\n",
              "        text-align: right;\n",
              "    }\n",
              "</style>\n",
              "<table border=\"1\" class=\"dataframe\">\n",
              "  <thead>\n",
              "    <tr style=\"text-align: right;\">\n",
              "      <th></th>\n",
              "      <th>nome_munic</th>\n",
              "      <th>casos</th>\n",
              "      <th>obitos</th>\n",
              "      <th>casos_novos</th>\n",
              "      <th>obitos_novos</th>\n",
              "    </tr>\n",
              "    <tr>\n",
              "      <th>datahora</th>\n",
              "      <th></th>\n",
              "      <th></th>\n",
              "      <th></th>\n",
              "      <th></th>\n",
              "      <th></th>\n",
              "    </tr>\n",
              "  </thead>\n",
              "  <tbody>\n",
              "    <tr>\n",
              "      <th>2020-02-25</th>\n",
              "      <td>Piracicaba</td>\n",
              "      <td>0</td>\n",
              "      <td>0</td>\n",
              "      <td>0</td>\n",
              "      <td>0</td>\n",
              "    </tr>\n",
              "    <tr>\n",
              "      <th>2020-02-26</th>\n",
              "      <td>Piracicaba</td>\n",
              "      <td>0</td>\n",
              "      <td>0</td>\n",
              "      <td>0</td>\n",
              "      <td>0</td>\n",
              "    </tr>\n",
              "    <tr>\n",
              "      <th>2020-02-27</th>\n",
              "      <td>Piracicaba</td>\n",
              "      <td>0</td>\n",
              "      <td>0</td>\n",
              "      <td>0</td>\n",
              "      <td>0</td>\n",
              "    </tr>\n",
              "    <tr>\n",
              "      <th>2020-02-28</th>\n",
              "      <td>Piracicaba</td>\n",
              "      <td>0</td>\n",
              "      <td>0</td>\n",
              "      <td>0</td>\n",
              "      <td>0</td>\n",
              "    </tr>\n",
              "    <tr>\n",
              "      <th>2020-02-29</th>\n",
              "      <td>Piracicaba</td>\n",
              "      <td>0</td>\n",
              "      <td>0</td>\n",
              "      <td>0</td>\n",
              "      <td>0</td>\n",
              "    </tr>\n",
              "    <tr>\n",
              "      <th>...</th>\n",
              "      <td>...</td>\n",
              "      <td>...</td>\n",
              "      <td>...</td>\n",
              "      <td>...</td>\n",
              "      <td>...</td>\n",
              "    </tr>\n",
              "    <tr>\n",
              "      <th>2021-04-17</th>\n",
              "      <td>Piracicaba</td>\n",
              "      <td>40498</td>\n",
              "      <td>768</td>\n",
              "      <td>141</td>\n",
              "      <td>6</td>\n",
              "    </tr>\n",
              "    <tr>\n",
              "      <th>2021-04-18</th>\n",
              "      <td>Piracicaba</td>\n",
              "      <td>40641</td>\n",
              "      <td>774</td>\n",
              "      <td>143</td>\n",
              "      <td>6</td>\n",
              "    </tr>\n",
              "    <tr>\n",
              "      <th>2021-04-19</th>\n",
              "      <td>Piracicaba</td>\n",
              "      <td>40729</td>\n",
              "      <td>776</td>\n",
              "      <td>88</td>\n",
              "      <td>2</td>\n",
              "    </tr>\n",
              "    <tr>\n",
              "      <th>2021-04-20</th>\n",
              "      <td>Piracicaba</td>\n",
              "      <td>40946</td>\n",
              "      <td>784</td>\n",
              "      <td>217</td>\n",
              "      <td>8</td>\n",
              "    </tr>\n",
              "    <tr>\n",
              "      <th>2021-04-21</th>\n",
              "      <td>Piracicaba</td>\n",
              "      <td>41115</td>\n",
              "      <td>791</td>\n",
              "      <td>169</td>\n",
              "      <td>7</td>\n",
              "    </tr>\n",
              "  </tbody>\n",
              "</table>\n",
              "<p>422 rows × 5 columns</p>\n",
              "</div>"
            ],
            "text/plain": [
              "            nome_munic  casos  obitos  casos_novos  obitos_novos\n",
              "datahora                                                        \n",
              "2020-02-25  Piracicaba      0       0            0             0\n",
              "2020-02-26  Piracicaba      0       0            0             0\n",
              "2020-02-27  Piracicaba      0       0            0             0\n",
              "2020-02-28  Piracicaba      0       0            0             0\n",
              "2020-02-29  Piracicaba      0       0            0             0\n",
              "...                ...    ...     ...          ...           ...\n",
              "2021-04-17  Piracicaba  40498     768          141             6\n",
              "2021-04-18  Piracicaba  40641     774          143             6\n",
              "2021-04-19  Piracicaba  40729     776           88             2\n",
              "2021-04-20  Piracicaba  40946     784          217             8\n",
              "2021-04-21  Piracicaba  41115     791          169             7\n",
              "\n",
              "[422 rows x 5 columns]"
            ]
          },
          "metadata": {
            "tags": []
          },
          "execution_count": 85
        }
      ]
    },
    {
      "cell_type": "code",
      "metadata": {
        "colab": {
          "base_uri": "https://localhost:8080/",
          "height": 485
        },
        "id": "MJwbWiu_-qNQ",
        "outputId": "428e1d63-8635-472f-d6a1-9631cc47a924"
      },
      "source": [
        "graf_casos_locais = casos_locais_selecionados['casos'].plot(figsize=(12,6))\n",
        "\n",
        "# Gráfico: Acumulado de casos locais\n",
        "nome_do_grafico = '{} - Acumulado de casos - SEADE'.format(municipio)\n",
        "plt.style.use ('classic')\n",
        "plt.grid()\n",
        "plt.title (nome_do_grafico)\n",
        "graf_casos_locais\n",
        "plt.savefig(nome_do_grafico+'.png', dpi = 300, bbox_inches='tight')\n",
        "plt.show()"
      ],
      "execution_count": 86,
      "outputs": [
        {
          "output_type": "display_data",
          "data": {
            "image/png": "[encoded data removed]",
            "text/plain": [
              "<Figure size 960x480 with 1 Axes>"
            ]
          },
          "metadata": {
            "tags": []
          }
        }
      ]
    },
    {
      "cell_type": "code",
      "metadata": {
        "colab": {
          "base_uri": "https://localhost:8080/",
          "height": 485
        },
        "id": "2kC3S_gQAznE",
        "outputId": "e900d86b-918b-4fad-98bb-c8426cd8b191"
      },
      "source": [
        "graf_obitos_locais = casos_locais_selecionados['obitos'].plot(figsize=(12,6))\n",
        "\n",
        "# Gráfico: Acumulado de óbitos locais\n",
        "nome_do_grafico = '{} - Acumulado de óbitos - SEADE'.format(municipio)\n",
        "plt.style.use ('classic')\n",
        "plt.grid()\n",
        "plt.title (nome_do_grafico)\n",
        "graf_casos_locais\n",
        "plt.savefig(nome_do_grafico+'.png', dpi = 300, bbox_inches='tight')\n",
        "plt.show()"
      ],
      "execution_count": 87,
      "outputs": [
        {
          "output_type": "display_data",
          "data": {
            "image/png": "[encoded data removed]",
            "text/plain": [
              "<Figure size 960x480 with 1 Axes>"
            ]
          },
          "metadata": {
            "tags": []
          }
        }
      ]
    },
    {
      "cell_type": "code",
      "metadata": {
        "colab": {
          "base_uri": "https://localhost:8080/",
          "height": 485
        },
        "id": "tksQQFHGBMsY",
        "outputId": "42e5255a-c4c7-4182-820b-b46bb8763118"
      },
      "source": [
        "graf_media_mensal_casos = casos_locais_selecionados['casos_novos'].resample('M').mean().plot(figsize=(12,6))\n",
        "\n",
        "# Gráfico: Média mensal de casos novos\n",
        "nome_do_grafico = '{} - Média mensal de casos novos - SEADE'.format(municipio)\n",
        "plt.style.use ('classic')\n",
        "plt.grid()\n",
        "plt.title (nome_do_grafico)\n",
        "graf_media_mensal_casos\n",
        "plt.savefig(nome_do_grafico+'.png', dpi = 300, bbox_inches='tight')\n",
        "plt.show()"
      ],
      "execution_count": 88,
      "outputs": [
        {
          "output_type": "display_data",
          "data": {
            "image/png": "[encoded data removed]",
            "text/plain": [
              "<Figure size 960x480 with 1 Axes>"
            ]
          },
          "metadata": {
            "tags": []
          }
        }
      ]
    },
    {
      "cell_type": "code",
      "metadata": {
        "colab": {
          "base_uri": "https://localhost:8080/",
          "height": 485
        },
        "id": "SFMeUkAcByg6",
        "outputId": "f19bb630-58cc-4f23-cfed-d72779b85c69"
      },
      "source": [
        "graf_media_mensal_obitos = casos_locais_selecionados['obitos_novos'].resample('M').mean().plot(figsize=(12,6))\n",
        "\n",
        "# Gráfico: Média mensal de óbitos novos\n",
        "nome_do_grafico = '{} - Média mensal de óbitos novos - SEADE'.format(municipio)\n",
        "plt.style.use ('classic')\n",
        "plt.grid()\n",
        "plt.title (nome_do_grafico)\n",
        "graf_media_mensal_casos\n",
        "plt.savefig(nome_do_grafico+'.png', dpi = 300, bbox_inches='tight')\n",
        "plt.show()"
      ],
      "execution_count": 89,
      "outputs": [
        {
          "output_type": "display_data",
          "data": {
            "image/png": "[encoded data removed]",
            "text/plain": [
              "<Figure size 960x480 with 1 Axes>"
            ]
          },
          "metadata": {
            "tags": []
          }
        }
      ]
    },
    {
      "cell_type": "code",
      "metadata": {
        "id": "qBBKOzcMICy5"
      },
      "source": [
        "# Criação de uma planilha Excel para resumir o trabalho\n",
        "with pd.ExcelWriter('{}_{}.xlsx'.format(municipio, drs)) as writer:  \n",
        "  doses.to_excel(writer, sheet_name='Doses')\n",
        "  vacinados_por_local.to_excel(writer, sheet_name='Vacinados por local')\n",
        "  vacinados_municipio_por_semana.to_excel (writer, sheet_name='Vacinados por semana')\n",
        "  ocupacao_por_estabelecimento.to_excel (writer, sheet_name= 'Ocupação Leitos e UTI - DataSUS')\n",
        "  internacoes_diarias.to_excel (writer, sheet_name= 'Internações diárias - SEADE')\n",
        "  casos_locais_selecionados.to_excel (writer, sheet_name= 'Casos locais - SEADE')"
      ],
      "execution_count": 90,
      "outputs": []
    }
  ]
}